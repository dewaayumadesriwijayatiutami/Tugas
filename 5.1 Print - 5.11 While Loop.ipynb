{
 "cells": [
  {
   "cell_type": "code",
   "execution_count": 1,
   "id": "0b138020",
   "metadata": {},
   "outputs": [
    {
     "name": "stdout",
     "output_type": "stream",
     "text": [
      "saya sedang praktek algoritma\n"
     ]
    }
   ],
   "source": [
    "print('saya sedang praktek algoritma')"
   ]
  },
  {
   "cell_type": "code",
   "execution_count": 3,
   "id": "e269ef88",
   "metadata": {},
   "outputs": [
    {
     "name": "stdout",
     "output_type": "stream",
     "text": [
      "saya belajar algoritma menggunakan bahasa \"python\"\n"
     ]
    }
   ],
   "source": [
    "print('saya belajar algoritma menggunakan bahasa \"python\"')"
   ]
  },
  {
   "cell_type": "code",
   "execution_count": 1,
   "id": "9b5711c5",
   "metadata": {},
   "outputs": [
    {
     "name": "stdout",
     "output_type": "stream",
     "text": [
      "I don't understand\n"
     ]
    }
   ],
   "source": [
    "print(\"I don't understand\")"
   ]
  },
  {
   "cell_type": "code",
   "execution_count": 3,
   "id": "19a91df8",
   "metadata": {},
   "outputs": [
    {
     "name": "stdout",
     "output_type": "stream",
     "text": [
      "she says i'm beautiful\n"
     ]
    }
   ],
   "source": [
    "print(\"she says i'm beautiful\")"
   ]
  },
  {
   "cell_type": "code",
   "execution_count": 2,
   "id": "5c1b23d1",
   "metadata": {},
   "outputs": [
    {
     "name": "stdout",
     "output_type": "stream",
     "text": [
      "42\n",
      "100000\n",
      "4200000\n"
     ]
    }
   ],
   "source": [
    "mahasiswa17 = 42\n",
    "uang_di_dompet = 100000\n",
    "print(mahasiswa17)\n",
    "print(uang_di_dompet)\n",
    "print(mahasiswa17*uang_di_dompet)"
   ]
  },
  {
   "cell_type": "code",
   "execution_count": 5,
   "id": "133beb09",
   "metadata": {},
   "outputs": [
    {
     "name": "stdout",
     "output_type": "stream",
     "text": [
      "Dewa ayu wijaya\n"
     ]
    }
   ],
   "source": [
    "nama_depan ='Dewa ayu'\n",
    "nama_tengah = ' '\n",
    "nama_akhir= 'wijaya'\n",
    "print(nama_depan + nama_tengah + nama_akhir)"
   ]
  },
  {
   "cell_type": "code",
   "execution_count": 6,
   "id": "da5df392",
   "metadata": {},
   "outputs": [
    {
     "name": "stdout",
     "output_type": "stream",
     "text": [
      "siapakah namamu? Wijaya\n",
      "apa kegiatanmu sekarang, Wijaya? belajar algoritma\n",
      "semangat belajar algoritma nya yahh,Wijaya!!!!\n"
     ]
    }
   ],
   "source": [
    "nama = input(\"siapakah namamu? \")\n",
    "kegiatan = input('apa kegiatanmu sekarang, '+ nama +\"? \")\n",
    "print(\"semangat \"+ kegiatan +\" nya yahh,\" + nama + \"!!!!\")"
   ]
  },
  {
   "cell_type": "code",
   "execution_count": 8,
   "id": "0efc9302",
   "metadata": {},
   "outputs": [
    {
     "name": "stdout",
     "output_type": "stream",
     "text": [
      "berapa jumlah uang didompet kamu? 2000\n",
      "berapa jumlah uang kamu di bank? 3000\n",
      "total uang kamu adalah Rp 20003000\n"
     ]
    }
   ],
   "source": [
    "uang_di_dompet = input(\"berapa jumlah uang didompet kamu? \")\n",
    "uang_di_bank = input(\"berapa jumlah uang kamu di bank? \")\n",
    "print(\"total uang kamu adalah Rp \" + uang_di_dompet+uang_di_bank)"
   ]
  },
  {
   "cell_type": "code",
   "execution_count": 9,
   "id": "2d7a842a",
   "metadata": {},
   "outputs": [
    {
     "name": "stdout",
     "output_type": "stream",
     "text": [
      "jumlah uang di dompet: 5000\n",
      "jumlah uang di bank: 200000\n",
      "total uang Rp 205000\n"
     ]
    }
   ],
   "source": [
    "uang_di_dompet = input(\"jumlah uang di dompet: \")\n",
    "uang_di_bank = input(\"jumlah uang di bank: \")\n",
    "total_uang = int(uang_di_dompet)+ int(uang_di_bank)\n",
    "print(\"total uang Rp \" + str(total_uang))"
   ]
  },
  {
   "cell_type": "code",
   "execution_count": 10,
   "id": "9983b607",
   "metadata": {},
   "outputs": [
    {
     "data": {
      "text/plain": [
       "str"
      ]
     },
     "execution_count": 10,
     "metadata": {},
     "output_type": "execute_result"
    }
   ],
   "source": [
    "type(uang_di_dompet)"
   ]
  },
  {
   "cell_type": "code",
   "execution_count": 11,
   "id": "08fe1da4",
   "metadata": {},
   "outputs": [
    {
     "data": {
      "text/plain": [
       "str"
      ]
     },
     "execution_count": 11,
     "metadata": {},
     "output_type": "execute_result"
    }
   ],
   "source": [
    "type(uang_di_bank)"
   ]
  },
  {
   "cell_type": "code",
   "execution_count": 12,
   "id": "91ec6aeb",
   "metadata": {},
   "outputs": [
    {
     "data": {
      "text/plain": [
       "int"
      ]
     },
     "execution_count": 12,
     "metadata": {},
     "output_type": "execute_result"
    }
   ],
   "source": [
    "type(total_uang)"
   ]
  },
  {
   "cell_type": "code",
   "execution_count": 13,
   "id": "06da1e29",
   "metadata": {},
   "outputs": [
    {
     "name": "stdout",
     "output_type": "stream",
     "text": [
      "bilangan pertama =3\n",
      "bilangan kedua =4\n",
      "jumlah kedua bilangan = 7.0\n"
     ]
    }
   ],
   "source": [
    "bilangan_satu = input(\"bilangan pertama =\")\n",
    "bilangan_kedua = input (\"bilangan kedua =\")\n",
    "jumlah = float(bilangan_satu) + float(bilangan_kedua)\n",
    "print (\"jumlah kedua bilangan = \" + str(jumlah))"
   ]
  },
  {
   "cell_type": "code",
   "execution_count": 15,
   "id": "8817b314",
   "metadata": {},
   "outputs": [
    {
     "name": "stdout",
     "output_type": "stream",
     "text": [
      "Mekdi adalah pedagang sate dipinggir jalan\n"
     ]
    }
   ],
   "source": [
    "nama = \"Mekdi \"\n",
    "pekerjaan = \"pedagang sate \"\n",
    "tempat = \"pinggir jalan\"\n",
    "print(nama + 'adalah ' + pekerjaan + 'di' + tempat)"
   ]
  },
  {
   "cell_type": "code",
   "execution_count": 16,
   "id": "43aa5a23",
   "metadata": {},
   "outputs": [
    {
     "name": "stdout",
     "output_type": "stream",
     "text": [
      "Mekdi  adalah sebagai pedagang sate  di pinggir jalan.\n"
     ]
    }
   ],
   "source": [
    "print(f\"{nama} adalah sebagai {pekerjaan} di {tempat}.\")"
   ]
  },
  {
   "cell_type": "code",
   "execution_count": 17,
   "id": "7e9a0955",
   "metadata": {},
   "outputs": [],
   "source": [
    "belajar = 'saya sedang belajar algoritma'"
   ]
  },
  {
   "cell_type": "code",
   "execution_count": 18,
   "id": "800def24",
   "metadata": {},
   "outputs": [
    {
     "name": "stdout",
     "output_type": "stream",
     "text": [
      "say\n"
     ]
    }
   ],
   "source": [
    "print(belajar[0:3])"
   ]
  },
  {
   "cell_type": "code",
   "execution_count": 19,
   "id": "4550a63b",
   "metadata": {},
   "outputs": [
    {
     "name": "stdout",
     "output_type": "stream",
     "text": [
      "sedang belajar algorit\n"
     ]
    }
   ],
   "source": [
    "print(belajar[5:-2])"
   ]
  },
  {
   "cell_type": "code",
   "execution_count": 20,
   "id": "d5342d6e",
   "metadata": {},
   "outputs": [
    {
     "name": "stdout",
     "output_type": "stream",
     "text": [
      "ysa laaot\n"
     ]
    }
   ],
   "source": [
    "print(belajar[2:-1:3])"
   ]
  },
  {
   "cell_type": "code",
   "execution_count": 22,
   "id": "d3609126",
   "metadata": {},
   "outputs": [
    {
     "name": "stdout",
     "output_type": "stream",
     "text": [
      "saya sedang belajar algori\n"
     ]
    }
   ],
   "source": [
    "print(belajar[:-3])"
   ]
  },
  {
   "cell_type": "code",
   "execution_count": 23,
   "id": "4db6242e",
   "metadata": {},
   "outputs": [
    {
     "name": "stdout",
     "output_type": "stream",
     "text": [
      "aya sedang belajar algoritma\n"
     ]
    }
   ],
   "source": [
    "print(belajar[1:])"
   ]
  },
  {
   "cell_type": "code",
   "execution_count": 25,
   "id": "42a19878",
   "metadata": {},
   "outputs": [
    {
     "name": "stdout",
     "output_type": "stream",
     "text": [
      "saya sedang belajar algoritma\n"
     ]
    }
   ],
   "source": [
    "print(belajar[:])"
   ]
  },
  {
   "cell_type": "code",
   "execution_count": 26,
   "id": "56e0f43d",
   "metadata": {},
   "outputs": [],
   "source": [
    "judul = 'aku sebuah jam'"
   ]
  },
  {
   "cell_type": "code",
   "execution_count": 27,
   "id": "db4e21e5",
   "metadata": {},
   "outputs": [
    {
     "name": "stdout",
     "output_type": "stream",
     "text": [
      "14\n"
     ]
    }
   ],
   "source": [
    "print(len(judul))"
   ]
  },
  {
   "cell_type": "code",
   "execution_count": 28,
   "id": "33676358",
   "metadata": {},
   "outputs": [
    {
     "data": {
      "text/plain": [
       "'AKU SEBUAH JAM'"
      ]
     },
     "execution_count": 28,
     "metadata": {},
     "output_type": "execute_result"
    }
   ],
   "source": [
    "judul.upper()"
   ]
  },
  {
   "cell_type": "code",
   "execution_count": 29,
   "id": "2a4d49a3",
   "metadata": {},
   "outputs": [
    {
     "data": {
      "text/plain": [
       "'aku sebuah jam'"
      ]
     },
     "execution_count": 29,
     "metadata": {},
     "output_type": "execute_result"
    }
   ],
   "source": [
    "judul.lower()"
   ]
  },
  {
   "cell_type": "code",
   "execution_count": 30,
   "id": "be323011",
   "metadata": {},
   "outputs": [
    {
     "data": {
      "text/plain": [
       "11"
      ]
     },
     "execution_count": 30,
     "metadata": {},
     "output_type": "execute_result"
    }
   ],
   "source": [
    "judul.find('jam')"
   ]
  },
  {
   "cell_type": "code",
   "execution_count": 31,
   "id": "6a0582af",
   "metadata": {},
   "outputs": [
    {
     "data": {
      "text/plain": [
       "'aku sebuah lampu'"
      ]
     },
     "execution_count": 31,
     "metadata": {},
     "output_type": "execute_result"
    }
   ],
   "source": [
    "judul.replace('jam', 'lampu')"
   ]
  },
  {
   "cell_type": "code",
   "execution_count": 32,
   "id": "e5dcede1",
   "metadata": {},
   "outputs": [
    {
     "name": "stdout",
     "output_type": "stream",
     "text": [
      "True\n"
     ]
    }
   ],
   "source": [
    "print('jam'in judul)"
   ]
  },
  {
   "cell_type": "code",
   "execution_count": 33,
   "id": "107fccbc",
   "metadata": {},
   "outputs": [
    {
     "name": "stdout",
     "output_type": "stream",
     "text": [
      "11\n",
      "3\n",
      "15\n",
      "1.3333333333333333\n",
      "1\n",
      "1\n",
      "27\n",
      "4\n"
     ]
    }
   ],
   "source": [
    "print(4+7)\n",
    "print(7-4)\n",
    "print(3*5)\n",
    "print(4/3)\n",
    "print(4//3)\n",
    "print(5%2)\n",
    "print(3**3)\n",
    "x=3\n",
    "x+=1\n",
    "print(x)\n",
    "x-=2"
   ]
  },
  {
   "cell_type": "code",
   "execution_count": 34,
   "id": "e2eafe78",
   "metadata": {},
   "outputs": [
    {
     "name": "stdout",
     "output_type": "stream",
     "text": [
      "True\n",
      "True\n",
      "True\n",
      "True\n",
      "True\n",
      "True\n"
     ]
    }
   ],
   "source": [
    "x =3>2\n",
    "print(x)\n",
    "x =2<3\n",
    "print(x)\n",
    "x=3 >=2\n",
    "print(x)\n",
    "x=2 <=3\n",
    "print(x)\n",
    "x=3 ==3\n",
    "print(x)\n",
    "x=3 !=4\n",
    "print(x)"
   ]
  },
  {
   "cell_type": "code",
   "execution_count": 35,
   "id": "a3227ea2",
   "metadata": {},
   "outputs": [
    {
     "name": "stdout",
     "output_type": "stream",
     "text": [
      "False\n",
      "False\n",
      "False\n",
      "False\n"
     ]
    }
   ],
   "source": [
    "x=2>3\n",
    "print(x)\n",
    "x=2 >=3\n",
    "print(x)\n",
    "x=3 ==4\n",
    "print(x)\n",
    "x=3 !=3\n",
    "print(x)"
   ]
  },
  {
   "cell_type": "code",
   "execution_count": 36,
   "id": "0777392b",
   "metadata": {},
   "outputs": [
    {
     "name": "stdout",
     "output_type": "stream",
     "text": [
      "True\n"
     ]
    }
   ],
   "source": [
    "buah_nangka=13\n",
    "buah_durian=15\n",
    "print(buah_nangka >8 and buah_durian <16)"
   ]
  },
  {
   "cell_type": "code",
   "execution_count": 38,
   "id": "62f0ae78",
   "metadata": {},
   "outputs": [
    {
     "name": "stdout",
     "output_type": "stream",
     "text": [
      "False\n"
     ]
    }
   ],
   "source": [
    "print(buah_nangka < 7 or buah_durian < 2)"
   ]
  },
  {
   "cell_type": "code",
   "execution_count": 37,
   "id": "229da7ae",
   "metadata": {},
   "outputs": [
    {
     "name": "stdout",
     "output_type": "stream",
     "text": [
      "True\n"
     ]
    }
   ],
   "source": [
    "print(not(buah_nangka>15 or buah_durian<10))"
   ]
  },
  {
   "cell_type": "code",
   "execution_count": 40,
   "id": "422be412",
   "metadata": {},
   "outputs": [
    {
     "name": "stdout",
     "output_type": "stream",
     "text": [
      "nilaimu yaitu 89\n",
      "kamu dapat nilai A\n",
      "wouwww keren, selamat! \n"
     ]
    }
   ],
   "source": [
    "nilai=float(input(\"nilaimu yaitu \"))\n",
    "if nilai >=80:\n",
    "    print(\"kamu dapat nilai A\")\n",
    "    print(\"wouwww keren, selamat! \")\n",
    "if nilai <80 and nilai >=70:\n",
    "    print('kamu dapat nilai B')\n",
    "    print('tingkatin lagi ya!!')\n",
    "if nilai >=60 and nilai <70:\n",
    "    print(\"kamu dapat nilai C\")\n",
    "    print(\"jangan sedih, belajar lagi ya!\")\n",
    "if nilai >= 50 and nilai < 60:\n",
    "    print(\"kamu dapat nilai D\")\n",
    "    print(\"ulang lagi yak\")"
   ]
  },
  {
   "cell_type": "code",
   "execution_count": 41,
   "id": "1ce479a4",
   "metadata": {},
   "outputs": [
    {
     "name": "stdout",
     "output_type": "stream",
     "text": [
      "nilaimu yaitu90\n",
      "kamu dapat nilai A\n",
      "wouwww keren dech\n"
     ]
    }
   ],
   "source": [
    "nilai=float(input(\"nilaimu yaitu\"))\n",
    "if nilai >=80:\n",
    "    print(\"kamu dapat nilai A\")\n",
    "    print(\"wouwww keren dech\")\n",
    "elif nilai >=70:\n",
    "    print('kamu dapat nilai B')\n",
    "    print('tingkatin lagi ya!!')\n",
    "elif nilai >=60:\n",
    "    print(\"kamu dapat nilai C\")\n",
    "    print(\"jangan sedih, belajar lagi ya!\")\n",
    "elif nilai >=50:\n",
    "    print(\"kamu dapat nilai D\")\n",
    "    print(\"ulang lagi ya\")\n",
    "else:\n",
    "    print(\"kamu dapat nilai E\")\n",
    "    print(\"jumpa tahun depan\")"
   ]
  },
  {
   "cell_type": "code",
   "execution_count": 42,
   "id": "1a47eb0c",
   "metadata": {},
   "outputs": [
    {
     "name": "stdout",
     "output_type": "stream",
     "text": [
      "berapakah tinggi kamu? 158\n",
      "tingginya dalam cm atau inci? cm\n",
      "tinggi anda adalah 62.204758000000005inci\n"
     ]
    }
   ],
   "source": [
    "tinggi = float(input(\"berapakah tinggi kamu? \"))\n",
    "cm_atau_inci = input (\"tingginya dalam cm atau inci? \")\n",
    "\n",
    "if cm_atau_inci.upper() == 'CM' :\n",
    "    tinggi = tinggi*0.393701\n",
    "    print(\"tinggi anda adalah \" + str(tinggi) + \"inci\")\n",
    "elif cm_atau_inci.upper()== 'INCI':\n",
    "    tinggi = tinggi/0.393701\n",
    "    print(f\"tinggi anda adalah {tinggi} cm\")"
   ]
  },
  {
   "cell_type": "code",
   "execution_count": 44,
   "id": "8dfb730d",
   "metadata": {},
   "outputs": [
    {
     "name": "stdout",
     "output_type": "stream",
     "text": [
      "angka 0 masih dibawah 4\n",
      "angka 1 masih dibawah 4\n",
      "angka 2 masih dibawah 4\n",
      "angka 3 masih dibawah 4\n"
     ]
    }
   ],
   "source": [
    "a =0\n",
    "while a<4:\n",
    "    print(\"angka \" + str (a)+ \" masih dibawah 4\")\n",
    "    a+=1"
   ]
  },
  {
   "cell_type": "code",
   "execution_count": 45,
   "id": "8fdb6abb",
   "metadata": {},
   "outputs": [
    {
     "name": "stdout",
     "output_type": "stream",
     "text": [
      "\n",
      "*\n",
      "**\n",
      "***\n",
      "****\n",
      "*****\n"
     ]
    }
   ],
   "source": [
    "a =0\n",
    "while a < 6:\n",
    "    print(a* '*')\n",
    "    a+=1"
   ]
  },
  {
   "cell_type": "code",
   "execution_count": null,
   "id": "5f8c8705",
   "metadata": {},
   "outputs": [],
   "source": []
  }
 ],
 "metadata": {
  "kernelspec": {
   "display_name": "Python 3 (ipykernel)",
   "language": "python",
   "name": "python3"
  },
  "language_info": {
   "codemirror_mode": {
    "name": "ipython",
    "version": 3
   },
   "file_extension": ".py",
   "mimetype": "text/x-python",
   "name": "python",
   "nbconvert_exporter": "python",
   "pygments_lexer": "ipython3",
   "version": "3.9.7"
  }
 },
 "nbformat": 4,
 "nbformat_minor": 5
}
