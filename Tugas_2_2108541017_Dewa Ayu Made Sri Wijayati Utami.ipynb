{
 "cells": [
  {
   "cell_type": "markdown",
   "id": "e636abc6",
   "metadata": {},
   "source": [
    "# 5.12 List di Python\n",
    "list merupakan struktur data yang dibangun ke dalam Python untuk menyimpan sekumpulan item baikberupa string atau angka yang diapit oleh dua kurung siku. List bersifat mutable atau dapat diubah, dimana kita dapat menambah atau menghapus elemennya."
   ]
  },
  {
   "cell_type": "code",
   "execution_count": 1,
   "id": "aa148043",
   "metadata": {},
   "outputs": [
    {
     "name": "stdout",
     "output_type": "stream",
     "text": [
      "['satu', 'dua', 'tiga']\n"
     ]
    }
   ],
   "source": [
    "angka=['satu', 'dua', 'tiga']\n",
    "print(angka)"
   ]
  },
  {
   "cell_type": "code",
   "execution_count": 2,
   "id": "f1d080fc",
   "metadata": {},
   "outputs": [
    {
     "name": "stdout",
     "output_type": "stream",
     "text": [
      "satu\n"
     ]
    }
   ],
   "source": [
    "print(angka[0])"
   ]
  },
  {
   "cell_type": "code",
   "execution_count": 3,
   "id": "0da79c61",
   "metadata": {},
   "outputs": [
    {
     "name": "stdout",
     "output_type": "stream",
     "text": [
      "tiga\n"
     ]
    }
   ],
   "source": [
    "print(angka[-1])"
   ]
  },
  {
   "cell_type": "code",
   "execution_count": 4,
   "id": "7f0aeb6d",
   "metadata": {},
   "outputs": [
    {
     "name": "stdout",
     "output_type": "stream",
     "text": [
      "['nol', 'dua', 'tiga']\n"
     ]
    }
   ],
   "source": [
    "angka[0]='nol'\n",
    "print(angka)"
   ]
  },
  {
   "cell_type": "code",
   "execution_count": 6,
   "id": "55b490ae",
   "metadata": {},
   "outputs": [
    {
     "name": "stdout",
     "output_type": "stream",
     "text": [
      "['nol', 'dua']\n"
     ]
    }
   ],
   "source": [
    "print(angka[0:2])"
   ]
  },
  {
   "cell_type": "code",
   "execution_count": 7,
   "id": "215eeb7f",
   "metadata": {},
   "outputs": [
    {
     "name": "stdout",
     "output_type": "stream",
     "text": [
      "['nol', 'dua', 'tiga']\n"
     ]
    }
   ],
   "source": [
    "print(angka)"
   ]
  },
  {
   "cell_type": "markdown",
   "id": "6134fbbf",
   "metadata": {},
   "source": [
    "# 5.13 Metoda List"
   ]
  },
  {
   "cell_type": "code",
   "execution_count": 19,
   "id": "b87add50",
   "metadata": {},
   "outputs": [
    {
     "name": "stdout",
     "output_type": "stream",
     "text": [
      "['Dewa Ayu Made Sri Wijayati Utami']\n"
     ]
    }
   ],
   "source": [
    "nama = ['Dewa Ayu Made Sri Wijayati Utami']\n",
    "print(nama)"
   ]
  },
  {
   "cell_type": "code",
   "execution_count": 21,
   "id": "3cbcd4dc",
   "metadata": {},
   "outputs": [
    {
     "name": "stdout",
     "output_type": "stream",
     "text": [
      "['Dewa Ayu Made Sri Wijayati Utami', '2108541017']\n"
     ]
    }
   ],
   "source": [
    "nama.insert(1,'2108541017')\n",
    "print(nama)"
   ]
  },
  {
   "cell_type": "code",
   "execution_count": 11,
   "id": "5c39e5a7",
   "metadata": {},
   "outputs": [
    {
     "name": "stdout",
     "output_type": "stream",
     "text": [
      "['jaemin', 'jeno', 'renjun', 'jisung', 'chenle', 'mark']\n"
     ]
    }
   ],
   "source": [
    "nama =['jaemin', 'jeno', 'renjun','jisung','chenle']\n",
    "nama.append ('mark')\n",
    "print(nama)"
   ]
  },
  {
   "cell_type": "code",
   "execution_count": 12,
   "id": "f2aefb6f",
   "metadata": {},
   "outputs": [
    {
     "name": "stdout",
     "output_type": "stream",
     "text": [
      "['haechan', 'jaemin', 'jeno', 'renjun', 'jisung', 'chenle', 'mark']\n"
     ]
    }
   ],
   "source": [
    "nama.insert(0,'haechan')\n",
    "print(nama)"
   ]
  },
  {
   "cell_type": "code",
   "execution_count": 13,
   "id": "fbcb8671",
   "metadata": {},
   "outputs": [
    {
     "data": {
      "text/plain": [
       "['salak', 'strawberi', 'mangga', 'apel']"
      ]
     },
     "execution_count": 13,
     "metadata": {},
     "output_type": "execute_result"
    }
   ],
   "source": [
    "buah = ['salak','strawberi','mangga']\n",
    "buah.append ('apel')\n",
    "(buah)"
   ]
  },
  {
   "cell_type": "code",
   "execution_count": 14,
   "id": "ce38e3a6",
   "metadata": {},
   "outputs": [
    {
     "name": "stdout",
     "output_type": "stream",
     "text": [
      "['melon', 'salak', 'strawberi', 'mangga', 'apel']\n"
     ]
    }
   ],
   "source": [
    "buah.insert(0,'melon')\n",
    "print(buah)"
   ]
  },
  {
   "cell_type": "code",
   "execution_count": 15,
   "id": "fa7aef8d",
   "metadata": {},
   "outputs": [
    {
     "name": "stdout",
     "output_type": "stream",
     "text": [
      "['melon', 'strawberi', 'mangga', 'apel']\n"
     ]
    }
   ],
   "source": [
    "buah.remove('salak')\n",
    "print(buah)"
   ]
  },
  {
   "cell_type": "code",
   "execution_count": 16,
   "id": "f91be2e2",
   "metadata": {},
   "outputs": [
    {
     "name": "stdout",
     "output_type": "stream",
     "text": [
      "False\n"
     ]
    }
   ],
   "source": [
    "print('salak' in buah)"
   ]
  },
  {
   "cell_type": "code",
   "execution_count": 17,
   "id": "25bf3f84",
   "metadata": {},
   "outputs": [
    {
     "name": "stdout",
     "output_type": "stream",
     "text": [
      "True\n"
     ]
    }
   ],
   "source": [
    "print('melon'in buah)"
   ]
  },
  {
   "cell_type": "code",
   "execution_count": 18,
   "id": "18fe5e9e",
   "metadata": {},
   "outputs": [
    {
     "name": "stdout",
     "output_type": "stream",
     "text": [
      "4\n"
     ]
    }
   ],
   "source": [
    "print(len(buah))"
   ]
  },
  {
   "cell_type": "markdown",
   "id": "52ea5035",
   "metadata": {},
   "source": [
    "# 5.14 For Loop\n",
    "For loop digunakan untuk memanggil semua isi list."
   ]
  },
  {
   "cell_type": "code",
   "execution_count": 28,
   "id": "3645f010",
   "metadata": {},
   "outputs": [
    {
     "name": "stdout",
     "output_type": "stream",
     "text": [
      "Mark\n",
      "Renjun\n",
      "Jeno\n",
      "Haechan\n",
      "Jaemin\n",
      "Chenle\n",
      "Jisung\n"
     ]
    }
   ],
   "source": [
    "NCT= ['Mark','Renjun','Jeno','Haechan','Jaemin','Chenle','Jisung']\n",
    "for nama in NCT:\n",
    "    print(nama)"
   ]
  },
  {
   "cell_type": "code",
   "execution_count": null,
   "id": "cde905d5",
   "metadata": {},
   "outputs": [],
   "source": [
    "a = 0\n",
    "while 1 < len(NCT):\n",
    "    print(NCT[a])\n",
    "    a+=3"
   ]
  },
  {
   "cell_type": "code",
   "execution_count": 31,
   "id": "0636fda9",
   "metadata": {},
   "outputs": [
    {
     "name": "stdout",
     "output_type": "stream",
     "text": [
      "anggur\n",
      "apel\n",
      "kiwi\n",
      "jeruk\n"
     ]
    }
   ],
   "source": [
    "buah=['anggur', 'apel', 'kiwi', 'jeruk']\n",
    "for jenis in buah:\n",
    "    print(jenis)"
   ]
  },
  {
   "cell_type": "code",
   "execution_count": null,
   "id": "a32f69bf",
   "metadata": {},
   "outputs": [],
   "source": [
    "b = 0\n",
    "while 1 < len(buah):\n",
    "    print(buah[b])\n",
    "    b+=1"
   ]
  },
  {
   "cell_type": "markdown",
   "id": "d1cab418",
   "metadata": {},
   "source": [
    "# 5.15 Fungsi Range\n",
    "Fungsi range digunakan untuk membangkitkan bilangan berpola atau berurutan. Untuk menuliskannya perlu dikombinasi dengan for loop."
   ]
  },
  {
   "cell_type": "code",
   "execution_count": 35,
   "id": "4ed8d019",
   "metadata": {},
   "outputs": [
    {
     "name": "stdout",
     "output_type": "stream",
     "text": [
      "range(0, 8)\n"
     ]
    }
   ],
   "source": [
    "angka= range(8)\n",
    "print(angka)"
   ]
  },
  {
   "cell_type": "code",
   "execution_count": 36,
   "id": "030827f0",
   "metadata": {},
   "outputs": [
    {
     "name": "stdout",
     "output_type": "stream",
     "text": [
      "0\n",
      "1\n",
      "2\n",
      "3\n",
      "4\n",
      "5\n",
      "6\n",
      "7\n"
     ]
    }
   ],
   "source": [
    "for isi in angka:\n",
    "    print(isi)"
   ]
  },
  {
   "cell_type": "code",
   "execution_count": 37,
   "id": "a133bb7d",
   "metadata": {},
   "outputs": [
    {
     "name": "stdout",
     "output_type": "stream",
     "text": [
      "5\n",
      "6\n",
      "7\n"
     ]
    }
   ],
   "source": [
    "for isi in range(5,8):\n",
    "    print(isi)"
   ]
  },
  {
   "cell_type": "code",
   "execution_count": 38,
   "id": "3328bfab",
   "metadata": {},
   "outputs": [
    {
     "name": "stdout",
     "output_type": "stream",
     "text": [
      "0\n",
      "2\n",
      "4\n",
      "6\n"
     ]
    }
   ],
   "source": [
    "for isi in range (0,7,2):\n",
    "    print(isi)"
   ]
  },
  {
   "cell_type": "markdown",
   "id": "2d375098",
   "metadata": {},
   "source": [
    "### Latihan mencari bilangan terbesar"
   ]
  },
  {
   "cell_type": "code",
   "execution_count": 39,
   "id": "d592c1ae",
   "metadata": {},
   "outputs": [
    {
     "name": "stdout",
     "output_type": "stream",
     "text": [
      "8\n"
     ]
    }
   ],
   "source": [
    "data=[1,2,3,4,5,1,2,0,8]\n",
    "terbesar = data[0]\n",
    "for i in range(len(data)):\n",
    "    if data[i]>terbesar:\n",
    "        terbesar = data[i]\n",
    "print(terbesar)"
   ]
  },
  {
   "cell_type": "code",
   "execution_count": 40,
   "id": "4d63fac7",
   "metadata": {},
   "outputs": [
    {
     "name": "stdout",
     "output_type": "stream",
     "text": [
      "9\n"
     ]
    }
   ],
   "source": [
    "data=[1,2,3,4,5,1,2,0,9]\n",
    "terbesar = data[0]\n",
    "for angka in data:\n",
    "    if angka>terbesar:\n",
    "        terbesar = angka\n",
    "print(terbesar)"
   ]
  },
  {
   "cell_type": "markdown",
   "id": "0946868a",
   "metadata": {},
   "source": [
    "### Latihan membuat anggota list menjadi unik (tidak ada anggota list yang kembar)"
   ]
  },
  {
   "cell_type": "code",
   "execution_count": 41,
   "id": "4c28a697",
   "metadata": {},
   "outputs": [
    {
     "name": "stdout",
     "output_type": "stream",
     "text": [
      "[1, 2, 3, 4, 5, 6, 7, 8, 9, 10, 11]\n"
     ]
    }
   ],
   "source": [
    "angka = [1,2,2,3,4,5,3,6,7,8,9,10,11]\n",
    "anggota_unik =[]\n",
    "for anggota in angka:\n",
    "    if anggota not in anggota_unik:\n",
    "        anggota_unik.append(anggota)\n",
    "print(anggota_unik)"
   ]
  },
  {
   "cell_type": "markdown",
   "id": "a8cb065e",
   "metadata": {},
   "source": [
    "# List 2 Dimensi"
   ]
  },
  {
   "cell_type": "code",
   "execution_count": 42,
   "id": "b047608b",
   "metadata": {},
   "outputs": [
    {
     "name": "stdout",
     "output_type": "stream",
     "text": [
      "[[2, 3, 4], [3, 5, 7], [2, 4, 3]]\n"
     ]
    }
   ],
   "source": [
    "matrik = [\n",
    "    [2,3,4],\n",
    "    [3,5,7],\n",
    "    [2,4,3]\n",
    "]\n",
    "print(matrik)"
   ]
  },
  {
   "cell_type": "code",
   "execution_count": 43,
   "id": "3376a72f",
   "metadata": {},
   "outputs": [
    {
     "data": {
      "text/plain": [
       "[3, 5, 7]"
      ]
     },
     "execution_count": 43,
     "metadata": {},
     "output_type": "execute_result"
    }
   ],
   "source": [
    "matrik[1]"
   ]
  },
  {
   "cell_type": "code",
   "execution_count": 44,
   "id": "0d1b492d",
   "metadata": {},
   "outputs": [
    {
     "data": {
      "text/plain": [
       "7"
      ]
     },
     "execution_count": 44,
     "metadata": {},
     "output_type": "execute_result"
    }
   ],
   "source": [
    "matrik[1][2]"
   ]
  },
  {
   "cell_type": "code",
   "execution_count": 45,
   "id": "bf68dd3d",
   "metadata": {},
   "outputs": [
    {
     "name": "stdout",
     "output_type": "stream",
     "text": [
      "100\n"
     ]
    }
   ],
   "source": [
    "matrik[1][2]=100\n",
    "print(matrik[1][2])"
   ]
  },
  {
   "cell_type": "code",
   "execution_count": 46,
   "id": "1429661f",
   "metadata": {},
   "outputs": [
    {
     "data": {
      "text/plain": [
       "[[2, 3, 4], [3, 5, 100], [2, 4, 3]]"
      ]
     },
     "execution_count": 46,
     "metadata": {},
     "output_type": "execute_result"
    }
   ],
   "source": [
    "matrik"
   ]
  },
  {
   "cell_type": "code",
   "execution_count": 47,
   "id": "d77d2595",
   "metadata": {},
   "outputs": [
    {
     "name": "stdout",
     "output_type": "stream",
     "text": [
      "[2, 3, 4]\n",
      "2\n",
      "3\n",
      "4\n",
      "[3, 5, 100]\n",
      "3\n",
      "5\n",
      "100\n",
      "[2, 4, 3]\n",
      "2\n",
      "4\n",
      "3\n"
     ]
    }
   ],
   "source": [
    "for baris in matrik:\n",
    "    print(baris)\n",
    "    for kolom in baris:\n",
    "        print (kolom)"
   ]
  },
  {
   "cell_type": "markdown",
   "id": "dc1bbe87",
   "metadata": {},
   "source": [
    "# Tuples\n",
    "Tuples mirip dengan list, tetapi Tuples tidak dapat merubah isi."
   ]
  },
  {
   "cell_type": "code",
   "execution_count": 48,
   "id": "1c22b5ec",
   "metadata": {},
   "outputs": [],
   "source": [
    "angka=[1,2,3,4]"
   ]
  },
  {
   "cell_type": "code",
   "execution_count": 49,
   "id": "be75d5c3",
   "metadata": {},
   "outputs": [
    {
     "name": "stdout",
     "output_type": "stream",
     "text": [
      "2\n"
     ]
    }
   ],
   "source": [
    "print(angka[1])"
   ]
  },
  {
   "cell_type": "code",
   "execution_count": 50,
   "id": "19ab750d",
   "metadata": {},
   "outputs": [
    {
     "name": "stdout",
     "output_type": "stream",
     "text": [
      "[1, 2, 3]\n"
     ]
    }
   ],
   "source": [
    "print(angka[0:3])"
   ]
  },
  {
   "cell_type": "code",
   "execution_count": 51,
   "id": "07f5380b",
   "metadata": {},
   "outputs": [
    {
     "name": "stdout",
     "output_type": "stream",
     "text": [
      "1\n",
      "2\n",
      "3\n"
     ]
    }
   ],
   "source": [
    "for isi in angka[0:3]:\n",
    "    print(isi)"
   ]
  },
  {
   "cell_type": "code",
   "execution_count": 53,
   "id": "50034af0",
   "metadata": {},
   "outputs": [],
   "source": [
    "angka[0] = 17"
   ]
  },
  {
   "cell_type": "code",
   "execution_count": null,
   "id": "cf9812db",
   "metadata": {},
   "outputs": [],
   "source": [
    "angka.append(17)"
   ]
  },
  {
   "cell_type": "code",
   "execution_count": null,
   "id": "e213f16a",
   "metadata": {},
   "outputs": [],
   "source": [
    "angka.remove(3)"
   ]
  },
  {
   "cell_type": "code",
   "execution_count": 54,
   "id": "ea78f05e",
   "metadata": {},
   "outputs": [
    {
     "data": {
      "text/plain": [
       "0"
      ]
     },
     "execution_count": 54,
     "metadata": {},
     "output_type": "execute_result"
    }
   ],
   "source": [
    "angka.count(1)"
   ]
  },
  {
   "cell_type": "code",
   "execution_count": 55,
   "id": "ad3d5c6a",
   "metadata": {},
   "outputs": [
    {
     "data": {
      "text/plain": [
       "1"
      ]
     },
     "execution_count": 55,
     "metadata": {},
     "output_type": "execute_result"
    }
   ],
   "source": [
    "angka.index(2)"
   ]
  },
  {
   "cell_type": "markdown",
   "id": "99a9e09a",
   "metadata": {},
   "source": [
    "# 5.18 Dictionaries\n",
    "Dictionaries digunakan jika datanya terkait satu sama lain."
   ]
  },
  {
   "cell_type": "code",
   "execution_count": 56,
   "id": "1c584b0f",
   "metadata": {},
   "outputs": [],
   "source": [
    "data_orang = {\n",
    "    \"nama\" :\"Dewa Ayu Made Sri Wijayati Utami\",\n",
    "    \"umur\" : 19,\n",
    "    \"apakah_singel\" : True\n",
    "}"
   ]
  },
  {
   "cell_type": "code",
   "execution_count": 57,
   "id": "1b51c150",
   "metadata": {},
   "outputs": [
    {
     "name": "stdout",
     "output_type": "stream",
     "text": [
      "Dewa Ayu Made Sri Wijayati Utami\n"
     ]
    }
   ],
   "source": [
    "print(data_orang['nama'])"
   ]
  },
  {
   "cell_type": "code",
   "execution_count": 58,
   "id": "7273bb1d",
   "metadata": {},
   "outputs": [
    {
     "name": "stdout",
     "output_type": "stream",
     "text": [
      "Dewa Ayu Made Sri Wijayati Utami\n"
     ]
    }
   ],
   "source": [
    "print(data_orang.get('nama'))"
   ]
  },
  {
   "cell_type": "code",
   "execution_count": 59,
   "id": "ab158206",
   "metadata": {},
   "outputs": [
    {
     "name": "stdout",
     "output_type": "stream",
     "text": [
      "None\n"
     ]
    }
   ],
   "source": [
    "print(data_orang.get('tanggal_lahir'))"
   ]
  },
  {
   "cell_type": "code",
   "execution_count": 60,
   "id": "307ff6ce",
   "metadata": {},
   "outputs": [
    {
     "name": "stdout",
     "output_type": "stream",
     "text": [
      "23-11-2002\n"
     ]
    }
   ],
   "source": [
    "print(data_orang.get('tanggal_lahir', '23-11-2002'))"
   ]
  },
  {
   "cell_type": "code",
   "execution_count": 61,
   "id": "8f4b1e4b",
   "metadata": {},
   "outputs": [
    {
     "name": "stdout",
     "output_type": "stream",
     "text": [
      "{'nama': 'Dewa Ayu Made Sri Wijayati Utami', 'umur': 19, 'apakah_singel': True}\n"
     ]
    }
   ],
   "source": [
    "print(data_orang)"
   ]
  },
  {
   "cell_type": "code",
   "execution_count": 62,
   "id": "ab3a652d",
   "metadata": {},
   "outputs": [],
   "source": [
    "data_orang['HP'] = '081234567890'"
   ]
  },
  {
   "cell_type": "code",
   "execution_count": 63,
   "id": "f47211f1",
   "metadata": {},
   "outputs": [
    {
     "name": "stdout",
     "output_type": "stream",
     "text": [
      "081234567890\n"
     ]
    }
   ],
   "source": [
    "print(data_orang[\"HP\"])"
   ]
  },
  {
   "cell_type": "code",
   "execution_count": 64,
   "id": "92a70035",
   "metadata": {},
   "outputs": [
    {
     "name": "stdout",
     "output_type": "stream",
     "text": [
      "{'nama': 'Dewa Ayu Made Sri Wijayati Utami', 'umur': 19, 'apakah_singel': True, 'HP': '081234567890'}\n"
     ]
    }
   ],
   "source": [
    "print(data_orang)"
   ]
  },
  {
   "cell_type": "code",
   "execution_count": 65,
   "id": "73b208ee",
   "metadata": {},
   "outputs": [],
   "source": [
    "angka={\n",
    "    \"0\":\"nol\",\n",
    "    \"1\":\"satu\",\n",
    "    \"2\":\"dua\",\n",
    "    \"3\":\"tiga\",\n",
    "    \"4\":\"empat\",\n",
    "    \"5\":\"lima\",\n",
    "    \"6\":\"enam\",\n",
    "    \"7\":\"tujuh\",\n",
    "    \"8\":\"delapan\",\n",
    "    \"9\":\"sembilan\",\n",
    "    \n",
    "}"
   ]
  },
  {
   "cell_type": "code",
   "execution_count": 66,
   "id": "8cc10338",
   "metadata": {},
   "outputs": [
    {
     "name": "stdout",
     "output_type": "stream",
     "text": [
      "masukaan angka08123456789\n",
      "nol delapan satu dua tiga empat lima enam tujuh delapan sembilan \n"
     ]
    }
   ],
   "source": [
    "nomor_HP = input(\"masukaan angka\")\n",
    "nomor_angka= \"\"\n",
    "for isi in nomor_HP:\n",
    "    nomor_angka += angka.get(isi) + \" \"\n",
    "print(nomor_angka)"
   ]
  },
  {
   "cell_type": "markdown",
   "id": "6e69d310",
   "metadata": {},
   "source": [
    "# 5.19 Fungsi dalam Python"
   ]
  },
  {
   "cell_type": "code",
   "execution_count": 67,
   "id": "f79c6d5c",
   "metadata": {},
   "outputs": [],
   "source": [
    "def full_nama(first_name,last_name):\n",
    "    print(f\"nama lengkap yaitu {first_name} {last_name}\")"
   ]
  },
  {
   "cell_type": "code",
   "execution_count": 68,
   "id": "5b04a133",
   "metadata": {},
   "outputs": [
    {
     "name": "stdout",
     "output_type": "stream",
     "text": [
      "nama depan : sri wijaya\n",
      "nama belakang : utami\n",
      "nama lengkap yaitu sri wijaya utami\n"
     ]
    }
   ],
   "source": [
    "first_name= input(\"nama depan : \")\n",
    "last_name = input(\"nama belakang : \")\n",
    "full_nama(first_name, last_name)"
   ]
  },
  {
   "cell_type": "code",
   "execution_count": 71,
   "id": "0a4c14a0",
   "metadata": {},
   "outputs": [
    {
     "name": "stdout",
     "output_type": "stream",
     "text": [
      "nama kamu : Dewa Ayu Made Sri Wijayati Utami\n",
      "berapa NIM mu : 2108541017\n",
      "nama lengkap yaitu Dewa Ayu Made Sri Wijayati Utami 2108541017\n"
     ]
    }
   ],
   "source": [
    "nama= input(\"nama kamu : \")\n",
    "nim = input(\"berapa NIM mu : \")\n",
    "full_nama(nama, nim)"
   ]
  },
  {
   "cell_type": "markdown",
   "id": "a5406b40",
   "metadata": {},
   "source": [
    "## Tugas Fungsi pada python"
   ]
  },
  {
   "cell_type": "code",
   "execution_count": 72,
   "id": "eb762ced",
   "metadata": {},
   "outputs": [],
   "source": [
    "def waktu_sampai (jarak, kecepatan):\n",
    "    waktu= jarak/kecepatan\n",
    "    return waktu"
   ]
  },
  {
   "cell_type": "code",
   "execution_count": 73,
   "id": "ba7d82cb",
   "metadata": {},
   "outputs": [],
   "source": [
    "def waktu_tempuh (jarak, kecepatan):\n",
    "    waktu= jarak/kecepatan\n",
    "    return waktu"
   ]
  },
  {
   "cell_type": "code",
   "execution_count": 74,
   "id": "8d11840c",
   "metadata": {},
   "outputs": [
    {
     "data": {
      "text/plain": [
       "2.0"
      ]
     },
     "execution_count": 74,
     "metadata": {},
     "output_type": "execute_result"
    }
   ],
   "source": [
    "waktu_sampai (80,40)"
   ]
  },
  {
   "cell_type": "code",
   "execution_count": 75,
   "id": "536452ff",
   "metadata": {},
   "outputs": [
    {
     "data": {
      "text/plain": [
       "2.0"
      ]
     },
     "execution_count": 75,
     "metadata": {},
     "output_type": "execute_result"
    }
   ],
   "source": [
    "waktu_tempuh(80,40)"
   ]
  },
  {
   "cell_type": "code",
   "execution_count": 78,
   "id": "f3b91289",
   "metadata": {},
   "outputs": [
    {
     "data": {
      "text/plain": [
       "2.0"
      ]
     },
     "execution_count": 78,
     "metadata": {},
     "output_type": "execute_result"
    }
   ],
   "source": [
    "a = waktu_sampai(80,40)\n",
    "a"
   ]
  },
  {
   "cell_type": "code",
   "execution_count": 79,
   "id": "13e71ce2",
   "metadata": {},
   "outputs": [
    {
     "data": {
      "text/plain": [
       "2.0"
      ]
     },
     "execution_count": 79,
     "metadata": {},
     "output_type": "execute_result"
    }
   ],
   "source": [
    "b = waktu_sampai(80,40)\n",
    "b"
   ]
  },
  {
   "cell_type": "code",
   "execution_count": 80,
   "id": "5f63b119",
   "metadata": {},
   "outputs": [],
   "source": [
    "import numpy as np"
   ]
  },
  {
   "cell_type": "code",
   "execution_count": 81,
   "id": "e9d2a03d",
   "metadata": {},
   "outputs": [],
   "source": [
    "def luas_segitiga(alas,tinggi):\n",
    "    luas = (1/2)*alas*tinggi\n",
    "    return luas\n",
    "def luas_lingkaran(jari_jari):\n",
    "    luas = np.pi*(jari_jari**2)\n",
    "    return luas\n",
    "def luas_persegi_panjang(panjang,lebar):\n",
    "    luas = panjang*lebar\n",
    "    return luas\n",
    "def luas_jajargenjang(alas,tinggi):\n",
    "    luas = alas*tinggi\n",
    "    return luas"
   ]
  },
  {
   "cell_type": "code",
   "execution_count": 86,
   "id": "784c0943",
   "metadata": {},
   "outputs": [
    {
     "name": "stdout",
     "output_type": "stream",
     "text": [
      "jenis bidang : jajargenjang\n",
      "alas : 24\n",
      "tinggi : 5\n",
      "luasjajargenjang adalah 120.0\n"
     ]
    }
   ],
   "source": [
    "jenis_bidang = input(\"jenis bidang : \")\n",
    "if jenis_bidang.upper()== 'SEGITIGA':\n",
    "    alas = float(input('berapa alasnya: '))\n",
    "    tinggi = float(input('berapa tingginya: '))\n",
    "    luas = luas_segitiga(alas,tinggi)\n",
    "    print(f\"luas{jenis_bidang} adalah {luas}\")\n",
    "elif jenis_bidang.upper()== 'LINGKARAN':\n",
    "    jari_jari = float(input('panjang jari jarinya :'))\n",
    "    luas = luas_lingkaran(jari_jari)\n",
    "    print(f\"luas{jenis_bidang} adalah {luas}\")\n",
    "elif jenis_bidang.upper()== 'PERSEGI' or (jenis_bidang.upper() =='BUJUR SANGKAR'):\n",
    "    sisi = float(input('panjang sisinya :'))\n",
    "    luas = luas_persegi(sisi)\n",
    "    print(f\"luas{jenis_bidang} adalah {luas}\")\n",
    "elif jenis_bidang.upper()== 'PERSEGI PANJANG':\n",
    "    panjang = float(input('panjang :'))\n",
    "    lebar = float(input('lebar'))\n",
    "    luas = luas_persegi_panjang(panjang, lebar)\n",
    "    print(f\"luas{jenis_bidang} adalah {luas}\")\n",
    "elif jenis_bidang.upper() == 'JAJARGENJANG':\n",
    "    alas = float(input('alas : '))\n",
    "    tinggi = float(input('tinggi : '))\n",
    "    luas = luas_jajargenjang(alas,tinggi)\n",
    "    print(f\"luas{jenis_bidang} adalah {luas}\")\n",
    "else:\n",
    "    print(f\"sorry bidang {jenis_bidang} yang kamu masukkan tidak ada.\")\n",
    "    print(\"pilihan hanya SEGITIGA, LINGKARAN, PERSEGI, PERSEGi PANJANG dan JAJAR GENJANG\")\n",
    "    print (\"thank you\")"
   ]
  },
  {
   "cell_type": "code",
   "execution_count": 85,
   "id": "eac54f8a",
   "metadata": {},
   "outputs": [
    {
     "name": "stdout",
     "output_type": "stream",
     "text": [
      "jenis bidang : kerucut\n",
      "sorry bidang kerucut yang kamu masukkan tidak ada.\n",
      "pilihan hanya SEGITIGA, LINGKARAN, PERSEGI, PERSEGi PANJANG dan JAJAR GENJANG\n",
      "thank you\n"
     ]
    }
   ],
   "source": [
    "jenis_bidang = input(\"jenis bidang : \")\n",
    "if jenis_bidang.upper()== 'SEGITIGA':\n",
    "    alas = float(input('berapa alasnya: '))\n",
    "    tinggi = float(input('berapa tingginya: '))\n",
    "    luas = luas_segitiga(alas,tinggi)\n",
    "    print(f\"luas{jenis_bidang} adalah {luas}\")\n",
    "elif jenis_bidang.upper()== 'LINGKARAN':\n",
    "    jari_jari = float(input('panjang jari jarinya :'))\n",
    "    luas = luas_lingkaran(jari_jari)\n",
    "    print(f\"luas{jenis_bidang} adalah {luas}\")\n",
    "elif jenis_bidang.upper()== 'PERSEGI' or (jenis_bidang.upper() =='BUJUR SANGKAR'):\n",
    "    sisi = float(input('panjang sisinya :'))\n",
    "    luas = luas_persegi(sisi)\n",
    "    print(f\"luas{jenis_bidang} adalah {luas}\")\n",
    "elif jenis_bidang.upper()== 'PERSEGI PANJANG':\n",
    "    panjang = float(input('panjang :'))\n",
    "    lebar = float(input('lebar'))\n",
    "    luas = luas_persegi_panjang(panjang, lebar)\n",
    "    print(f\"luas{jenis_bidang} adalah {luas}\")\n",
    "elif jenis_bidang.upper() == 'JAJARGENJANG':\n",
    "    alas = float(input('alas : '))\n",
    "    tinggi = float(input('tinggi : '))\n",
    "    luas = luas_jajargenjang(alas,tinggi)\n",
    "    print(f\"luas{jenis_bidang} adalah {luas}\")\n",
    "else:\n",
    "    print(f\"sorry bidang {jenis_bidang} yang kamu masukkan tidak ada.\")\n",
    "    print(\"pilihan hanya SEGITIGA, LINGKARAN, PERSEGI, PERSEGi PANJANG dan JAJAR GENJANG\")\n",
    "    print (\"thank you\")"
   ]
  },
  {
   "cell_type": "code",
   "execution_count": null,
   "id": "facd9bdc",
   "metadata": {},
   "outputs": [],
   "source": []
  }
 ],
 "metadata": {
  "kernelspec": {
   "display_name": "Python 3 (ipykernel)",
   "language": "python",
   "name": "python3"
  },
  "language_info": {
   "codemirror_mode": {
    "name": "ipython",
    "version": 3
   },
   "file_extension": ".py",
   "mimetype": "text/x-python",
   "name": "python",
   "nbconvert_exporter": "python",
   "pygments_lexer": "ipython3",
   "version": "3.9.7"
  }
 },
 "nbformat": 4,
 "nbformat_minor": 5
}
